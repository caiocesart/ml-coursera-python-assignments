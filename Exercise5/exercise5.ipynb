{
 "cells": [
  {
   "cell_type": "markdown",
   "source": [
    "# Programming Exercise 5:\n",
    "# Regularized Linear Regression and Bias vs Variance\n",
    "\n",
    "## Introduction\n",
    "\n",
    "In this exercise, you will implement regularized linear regression and use it to study models with different bias-variance properties. Before starting on the programming exercise, we strongly recommend watching the video lectures and completing the review questions for the associated topics.\n",
    "\n",
    "All the information you need for solving this assignment is in this notebook, and all the code you will be implementing will take place within this notebook. The assignment can be promptly submitted to the coursera grader directly from this notebook (code and instructions are included below).\n",
    "\n",
    "Before we begin with the exercises, we need to import all libraries required for this programming exercise. Throughout the course, we will be using [`numpy`](http://www.numpy.org/) for all arrays and matrix operations, [`matplotlib`](https://matplotlib.org/) for plotting, and [`scipy`](https://docs.scipy.org/doc/scipy/reference/) for scientific and numerical computation functions and tools. You can find instructions on how to install required libraries in the README file in the [github repository](https://github.com/dibgerge/ml-coursera-python-assignments)."
   ],
   "metadata": {}
  },
  {
   "cell_type": "code",
   "execution_count": 1,
   "source": [
    "# used for manipulating directory paths\r\n",
    "import os\r\n",
    "\r\n",
    "# Scientific and vector computation for python\r\n",
    "import numpy as np\r\n",
    "\r\n",
    "# Plotting library\r\n",
    "from matplotlib import pyplot\r\n",
    "\r\n",
    "# Optimization module in scipy\r\n",
    "from scipy import optimize\r\n",
    "\r\n",
    "# will be used to load MATLAB mat datafile format\r\n",
    "from scipy.io import loadmat\r\n",
    "\r\n",
    "# library written for this exercise providing additional functions for assignment submission, and others\r\n",
    "import utils\r\n",
    "\r\n",
    "# define the submission/grader object for this exercise\r\n",
    "grader = utils.Grader()\r\n",
    "\r\n",
    "# tells matplotlib to embed plots within the notebook\r\n",
    "%matplotlib inline"
   ],
   "outputs": [],
   "metadata": {}
  },
  {
   "cell_type": "markdown",
   "source": [
    "## Submission and Grading\n",
    "\n",
    "\n",
    "After completing each part of the assignment, be sure to submit your solutions to the grader. The following is a breakdown of how each part of this exercise is scored.\n",
    "\n",
    "\n",
    "| Section | Part                                             | Submitted Function                | Points |\n",
    "| :-      |:-                                                |:-                                 | :-:    |\n",
    "| 1       | [Regularized Linear Regression Cost Function](#section1)      | [`linearRegCostFunction`](#linearRegCostFunction) |  25    |\n",
    "| 2       | [Regularized Linear Regression Gradient](#section2)           | [`linearRegCostFunction`](#linearRegCostFunction) |25      |\n",
    "| 3       | [Learning Curve](#section3)                                   | [`learningCurve`](#func2)         | 20     |\n",
    "| 4       | [Polynomial Feature Mapping](#section4)                       | [`polyFeatures`](#polyFeatures)          | 10     |\n",
    "| 5       | [Cross Validation Curve](#section5)                           | [`validationCurve`](#validationCurve)       | 20     |\n",
    "|         | Total Points                                     |                                   |100     |\n",
    "\n",
    "\n",
    "You are allowed to submit your solutions multiple times, and we will take only the highest score into consideration.\n",
    "\n",
    "<div class=\"alert alert-block alert-warning\">\n",
    "At the end of each section in this notebook, we have a cell which contains code for submitting the solutions thus far to the grader. Execute the cell to see your score up to the current section. For all your work to be submitted properly, you must execute those cells at least once.\n",
    "</div>"
   ],
   "metadata": {}
  },
  {
   "cell_type": "markdown",
   "source": [
    "<a id=\"section1\"></a>\n",
    "## 1 Regularized Linear Regression\n",
    "\n",
    "In the first half of the exercise, you will implement regularized linear regression to predict the amount of water flowing out of a dam using the change of water level in a reservoir. In the next half, you will go through some diagnostics of debugging learning algorithms and examine the effects of bias v.s.\n",
    "variance. \n",
    "\n",
    "### 1.1 Visualizing the dataset\n",
    "\n",
    "We will begin by visualizing the dataset containing historical records on the change in the water level, $x$, and the amount of water flowing out of the dam, $y$. This dataset is divided into three parts:\n",
    "\n",
    "- A **training** set that your model will learn on: `X`, `y`\n",
    "- A **cross validation** set for determining the regularization parameter: `Xval`, `yval`\n",
    "- A **test** set for evaluating performance. These are “unseen” examples which your model did not see during training: `Xtest`, `ytest`\n",
    "\n",
    "Run the next cell to plot the training data. In the following parts, you will implement linear regression and use that to fit a straight line to the data and plot learning curves. Following that, you will implement polynomial regression to find a better fit to the data."
   ],
   "metadata": {}
  },
  {
   "cell_type": "code",
   "execution_count": 2,
   "source": [
    "# Load from ex5data1.mat, where all variables will be store in a dictionary\r\n",
    "data = loadmat(os.path.join('Data', 'ex5data1.mat'))\r\n",
    "\r\n",
    "# Extract train, test, validation data from dictionary\r\n",
    "# and also convert y's form 2-D matrix (MATLAB format) to a numpy vector\r\n",
    "X, y = data['X'], data['y'][:, 0]\r\n",
    "Xtest, ytest = data['Xtest'], data['ytest'][:, 0]\r\n",
    "Xval, yval = data['Xval'], data['yval'][:, 0]\r\n",
    "\r\n",
    "# m = Number of examples\r\n",
    "m = y.size\r\n",
    "\r\n",
    "# Plot training data\r\n",
    "pyplot.plot(X, y, 'ro', ms=10, mec='k', mew=1)\r\n",
    "pyplot.xlabel('Change in water level (x)')\r\n",
    "pyplot.ylabel('Water flowing out of the dam (y)');"
   ],
   "outputs": [
    {
     "output_type": "display_data",
     "data": {
      "text/plain": [
       "<Figure size 432x288 with 1 Axes>"
      ],
      "image/png": "[encoded data removed]"
     },
     "metadata": {
      "needs_background": "light"
     }
    }
   ],
   "metadata": {}
  },
  {
   "cell_type": "markdown",
   "source": [
    "### 1.2 Regularized linear regression cost function\n",
    "\n",
    "Recall that regularized linear regression has the following cost function:\n",
    "\n",
    "$$ J(\\theta) = \\frac{1}{2m} \\left( \\sum_{i=1}^m \\left( h_\\theta\\left( x^{(i)} \\right) - y^{(i)} \\right)^2 \\right) + \\frac{\\lambda}{2m} \\left( \\sum_{j=1}^n \\theta_j^2 \\right)$$\n",
    "\n",
    "where $\\lambda$ is a regularization parameter which controls the degree of regularization (thus, help preventing overfitting). The regularization term puts a penalty on the overall cost J. As the magnitudes of the model parameters $\\theta_j$ increase, the penalty increases as well. Note that you should not regularize\n",
    "the $\\theta_0$ term.\n",
    "\n",
    "You should now complete the code in the function `linearRegCostFunction` in the next cell. Your task is to calculate the regularized linear regression cost function. If possible, try to vectorize your code and avoid writing loops.\n",
    "<a id=\"linearRegCostFunction\"></a>"
   ],
   "metadata": {}
  },
  {
   "cell_type": "code",
   "execution_count": 15,
   "source": [
    "def linearRegCostFunction(X, y, theta, lambda_=0.0):\r\n",
    "    \"\"\"\r\n",
    "    Compute cost and gradient for regularized linear regression \r\n",
    "    with multiple variables. Computes the cost of using theta as\r\n",
    "    the parameter for linear regression to fit the data points in X and y. \r\n",
    "    \r\n",
    "    Parameters\r\n",
    "    ----------\r\n",
    "    X : array_like\r\n",
    "        The dataset. Matrix with shape (m x n + 1) where m is the \r\n",
    "        total number of examples, and n is the number of features \r\n",
    "        before adding the bias term.\r\n",
    "    \r\n",
    "    y : array_like\r\n",
    "        The functions values at each datapoint. A vector of\r\n",
    "        shape (m, ).\r\n",
    "    \r\n",
    "    theta : array_like\r\n",
    "        The parameters for linear regression. A vector of shape (n+1,).\r\n",
    "    \r\n",
    "    lambda_ : float, optional\r\n",
    "        The regularization parameter.\r\n",
    "    \r\n",
    "    Returns\r\n",
    "    -------\r\n",
    "    J : float\r\n",
    "        The computed cost function. \r\n",
    "    \r\n",
    "    grad : array_like\r\n",
    "        The value of the cost function gradient w.r.t theta. \r\n",
    "        A vector of shape (n+1, ).\r\n",
    "    \r\n",
    "    Instructions\r\n",
    "    ------------\r\n",
    "    Compute the cost and gradient of regularized linear regression for\r\n",
    "    a particular choice of theta.\r\n",
    "    You should set J to the cost and grad to the gradient.\r\n",
    "    \"\"\"\r\n",
    "    # Initialize some useful values\r\n",
    "    m = y.size # number of training examples\r\n",
    "\r\n",
    "    # You need to return the following variables correctly \r\n",
    "    J = 0\r\n",
    "    grad = np.zeros(theta.shape)\r\n",
    "\r\n",
    "    # ====================== YOUR CODE HERE ======================\r\n",
    "    h_x = X @ theta\r\n",
    "    \r\n",
    "    J += (1/(2*m)) * np.sum((h_x - y)**2) + (lambda_/(2*m)) * np.sum((theta[1:])**2)\r\n",
    "\r\n",
    "    grad[0] += (1/m) * (((X @ theta) - y) @ X[:,0])\r\n",
    "    grad[1:] += (1/m) * (((X @ theta) - y) @ X[:,1:]) + (lambda_/m)*theta[1:]\r\n",
    "\r\n",
    "    # ============================================================\r\n",
    "    return J, grad"
   ],
   "outputs": [],
   "metadata": {}
  },
  {
   "cell_type": "markdown",
   "source": [
    "When you are finished, the next cell will run your cost function using `theta` initialized at `[1, 1]`. You should expect to see an output of 303.993."
   ],
   "metadata": {}
  },
  {
   "cell_type": "code",
   "execution_count": 10,
   "source": [
    "theta = np.array([1, 1])\r\n",
    "J, _ = linearRegCostFunction(np.concatenate([np.ones((m, 1)), X], axis=1), y, theta, 1)\r\n",
    "\r\n",
    "print('Cost at theta = [1, 1]:\\t   %f ' % J)\r\n",
    "print('This value should be about 303.993192)\\n' % J)"
   ],
   "outputs": [
    {
     "output_type": "stream",
     "name": "stdout",
     "text": [
      "Cost at theta = [1, 1]:\t   303.993192 \n",
      "This value should be about 303.993192)\n",
      "\n"
     ]
    }
   ],
   "metadata": {}
  },
  {
   "cell_type": "markdown",
   "source": [
    "After completing a part of the exercise, you can submit your solutions for grading by first adding the function you modified to the submission object, and then sending your function to Coursera for grading. \n",
    "\n",
    "The submission script will prompt you for your login e-mail and submission token. You can obtain a submission token from the web page for the assignment. You are allowed to submit your solutions multiple times, and we will take only the highest score into consideration.\n",
    "\n",
    "*Execute the following cell to grade your solution to the first part of this exercise.*"
   ],
   "metadata": {}
  },
  {
   "cell_type": "code",
   "execution_count": 20,
   "source": [
    "grader[1] = linearRegCostFunction\r\n",
    "grader.grade()"
   ],
   "outputs": [
    {
     "output_type": "stream",
     "name": "stdout",
     "text": [
      "\n",
      "Submitting Solutions | Programming Exercise regularized-linear-regression-and-bias-variance\n",
      "\n",
      "                                  Part Name |     Score | Feedback\n",
      "                                  --------- |     ----- | --------\n",
      "                           Validation Curve |  25 /  25 | Nice work!\n",
      "Regularized Linear Regression Cost Function |   0 /  25 | Your answer is incorrect.\n",
      "     Regularized Linear Regression Gradient |   0 /  20 | Your answer is incorrect.\n",
      "                             Learning Curve |   0 /  10 | Your answer is incorrect.\n",
      "                 Polynomial Feature Mapping |   0 /  20 | Your answer is incorrect.\n",
      "                                  --------------------------------\n",
      "                                            |  25 / 100 |  \n",
      "\n"
     ]
    }
   ],
   "metadata": {}
  },
  {
   "cell_type": "markdown",
   "source": [
    "<a id=\"section2\"></a>\n",
    "### 1.3 Regularized linear regression gradient\n",
    "\n",
    "Correspondingly, the partial derivative of the cost function for regularized linear regression is defined as:\n",
    "\n",
    "$$\n",
    "\\begin{align}\n",
    "& \\frac{\\partial J(\\theta)}{\\partial \\theta_0} = \\frac{1}{m} \\sum_{i=1}^m \\left( h_\\theta \\left(x^{(i)} \\right) - y^{(i)} \\right) x_j^{(i)} & \\qquad \\text{for } j = 0 \\\\\n",
    "& \\frac{\\partial J(\\theta)}{\\partial \\theta_j} = \\left( \\frac{1}{m} \\sum_{i=1}^m \\left( h_\\theta \\left( x^{(i)} \\right) - y^{(i)} \\right) x_j^{(i)} \\right) + \\frac{\\lambda}{m} \\theta_j & \\qquad \\text{for } j \\ge 1\n",
    "\\end{align}\n",
    "$$\n",
    "\n",
    "In the function [`linearRegCostFunction`](#linearRegCostFunction) above, add code to calculate the gradient, returning it in the variable `grad`. <font color='red'><b>Do not forget to re-execute the cell containing this function to update the function's definition.</b></font>\n",
    "\n",
    "\n",
    "When you are finished, use the next cell to  run your gradient function using theta initialized at `[1, 1]`. You should expect to see a gradient of `[-15.30, 598.250]`."
   ],
   "metadata": {}
  },
  {
   "cell_type": "code",
   "execution_count": 16,
   "source": [
    "theta = np.array([1, 1])\r\n",
    "J, grad = linearRegCostFunction(np.concatenate([np.ones((m, 1)), X], axis=1), y, theta, 1)\r\n",
    "\r\n",
    "print('Gradient at theta = [1, 1]:  [{:.6f}, {:.6f}] '.format(*grad))\r\n",
    "print(' (this value should be about [-15.303016, 598.250744])\\n')"
   ],
   "outputs": [
    {
     "output_type": "stream",
     "name": "stdout",
     "text": [
      "Gradient at theta = [1, 1]:  [-15.303016, 598.250744] \n",
      " (this value should be about [-15.303016, 598.250744])\n",
      "\n"
     ]
    }
   ],
   "metadata": {}
  },
  {
   "cell_type": "markdown",
   "source": [
    "*You should now submit your solutions.*"
   ],
   "metadata": {}
  },
  {
   "cell_type": "code",
   "execution_count": 21,
   "source": [
    "grader[2] = linearRegCostFunction\r\n",
    "grader.grade()"
   ],
   "outputs": [
    {
     "output_type": "stream",
     "name": "stdout",
     "text": [
      "\n",
      "Submitting Solutions | Programming Exercise regularized-linear-regression-and-bias-variance\n",
      "\n",
      "                                  Part Name |     Score | Feedback\n",
      "                                  --------- |     ----- | --------\n",
      "                           Validation Curve |  25 /  25 | Nice work!\n",
      "Regularized Linear Regression Cost Function |  25 /  25 | Nice work!\n",
      "     Regularized Linear Regression Gradient |   0 /  20 | Your answer is incorrect.\n",
      "                             Learning Curve |   0 /  10 | Your answer is incorrect.\n",
      "                 Polynomial Feature Mapping |   0 /  20 | Your answer is incorrect.\n",
      "                                  --------------------------------\n",
      "                                            |  50 / 100 |  \n",
      "\n"
     ]
    }
   ],
   "metadata": {}
  },
  {
   "cell_type": "markdown",
   "source": [
    "### Fitting linear regression\n",
    "\n",
    "Once your cost function and gradient are working correctly, the next cell will run the code in `trainLinearReg` (found in the module `utils.py`) to compute the optimal values of $\\theta$. This training function uses `scipy`'s optimization module to minimize the cost function.\n",
    "\n",
    "In this part, we set regularization parameter $\\lambda$ to zero. Because our current implementation of linear regression is trying to fit a 2-dimensional $\\theta$, regularization will not be incredibly helpful for a $\\theta$ of such low dimension. In the later parts of the exercise, you will be using polynomial regression with regularization.\n",
    "\n",
    "Finally, the code in the next cell should also plot the best fit line, which should look like the figure below. \n",
    "\n",
    "![](Figures/linear_fit.png)\n",
    "\n",
    "The best fit line tells us that the model is not a good fit to the data because the data has a non-linear pattern. While visualizing the best fit as shown is one possible way to debug your learning algorithm, it is not always easy to visualize the data and model. In the next section, you will implement a function to generate learning curves that can help you debug your learning algorithm even if it is not easy to visualize the\n",
    "data."
   ],
   "metadata": {}
  },
  {
   "cell_type": "code",
   "execution_count": 17,
   "source": [
    "# add a columns of ones for the y-intercept\r\n",
    "X_aug = np.concatenate([np.ones((m, 1)), X], axis=1)\r\n",
    "theta = utils.trainLinearReg(linearRegCostFunction, X_aug, y, lambda_=0)\r\n",
    "\r\n",
    "#  Plot fit over the data\r\n",
    "pyplot.plot(X, y, 'ro', ms=10, mec='k', mew=1.5)\r\n",
    "pyplot.xlabel('Change in water level (x)')\r\n",
    "pyplot.ylabel('Water flowing out of the dam (y)')\r\n",
    "pyplot.plot(X, np.dot(X_aug, theta), '--', lw=2);"
   ],
   "outputs": [
    {
     "output_type": "display_data",
     "data": {
      "text/plain": [
       "<Figure size 432x288 with 1 Axes>"
      ],
      "image/png": "[encoded data removed]"
     },
     "metadata": {
      "needs_background": "light"
     }
    }
   ],
   "metadata": {}
  },
  {
   "cell_type": "markdown",
   "source": [
    "<a id=\"section3\"></a>\n",
    "## 2 Bias-variance\n",
    "\n",
    "An important concept in machine learning is the bias-variance tradeoff. Models with high bias are not complex enough for the data and tend to underfit, while models with high variance overfit to the training data.\n",
    "\n",
    "In this part of the exercise, you will plot training and test errors on a learning curve to diagnose bias-variance problems.\n",
    "\n",
    "### 2.1 Learning Curves\n",
    "\n",
    "You will now implement code to generate the learning curves that will be useful in debugging learning algorithms. Recall that a learning curve plots training and cross validation error as a function of training set size. Your job is to fill in the function `learningCurve` in the next cell, so that it returns a vector of errors for the training set and cross validation set.\n",
    "\n",
    "To plot the learning curve, we need a training and cross validation set error for different training set sizes. To obtain different training set sizes, you should use different subsets of the original training set `X`. Specifically, for a training set size of $i$, you should use the first $i$ examples (i.e., `X[:i, :]`\n",
    "and `y[:i]`).\n",
    "\n",
    "You can use the `trainLinearReg` function (by calling `utils.trainLinearReg(...)`) to find the $\\theta$ parameters. Note that the `lambda_` is passed as a parameter to the `learningCurve` function.\n",
    "After learning the $\\theta$ parameters, you should compute the error on the training and cross validation sets. Recall that the training error for a dataset is defined as\n",
    "\n",
    "$$ J_{\\text{train}} = \\frac{1}{2m} \\left[ \\sum_{i=1}^m \\left(h_\\theta \\left( x^{(i)} \\right) - y^{(i)} \\right)^2 \\right] $$\n",
    "\n",
    "In particular, note that the training error does not include the regularization term. One way to compute the training error is to use your existing cost function and set $\\lambda$ to 0 only when using it to compute the training error and cross validation error. When you are computing the training set error, make sure you compute it on the training subset (i.e., `X[:n,:]` and `y[:n]`) instead of the entire training set. However, for the cross validation error, you should compute it over the entire cross validation set. You should store\n",
    "the computed errors in the vectors error train and error val.\n",
    "\n",
    "<a id=\"func2\"></a>"
   ],
   "metadata": {}
  },
  {
   "cell_type": "code",
   "execution_count": 18,
   "source": [
    "def learningCurve(X, y, Xval, yval, lambda_=0):\r\n",
    "    \"\"\"\r\n",
    "    Generates the train and cross validation set errors needed to plot a learning curve\r\n",
    "    returns the train and cross validation set errors for a learning curve. \r\n",
    "    \r\n",
    "    In this function, you will compute the train and test errors for\r\n",
    "    dataset sizes from 1 up to m. In practice, when working with larger\r\n",
    "    datasets, you might want to do this in larger intervals.\r\n",
    "    \r\n",
    "    Parameters\r\n",
    "    ----------\r\n",
    "    X : array_like\r\n",
    "        The training dataset. Matrix with shape (m x n + 1) where m is the \r\n",
    "        total number of examples, and n is the number of features \r\n",
    "        before adding the bias term.\r\n",
    "    \r\n",
    "    y : array_like\r\n",
    "        The functions values at each training datapoint. A vector of\r\n",
    "        shape (m, ).\r\n",
    "    \r\n",
    "    Xval : array_like\r\n",
    "        The validation dataset. Matrix with shape (m_val x n + 1) where m is the \r\n",
    "        total number of examples, and n is the number of features \r\n",
    "        before adding the bias term.\r\n",
    "    \r\n",
    "    yval : array_like\r\n",
    "        The functions values at each validation datapoint. A vector of\r\n",
    "        shape (m_val, ).\r\n",
    "    \r\n",
    "    lambda_ : float, optional\r\n",
    "        The regularization parameter.\r\n",
    "    \r\n",
    "    Returns\r\n",
    "    -------\r\n",
    "    error_train : array_like\r\n",
    "        A vector of shape m. error_train[i] contains the training error for\r\n",
    "        i examples.\r\n",
    "    error_val : array_like\r\n",
    "        A vecotr of shape m. error_val[i] contains the validation error for\r\n",
    "        i training examples.\r\n",
    "    \r\n",
    "    Instructions\r\n",
    "    ------------\r\n",
    "    Fill in this function to return training errors in error_train and the\r\n",
    "    cross validation errors in error_val. i.e., error_train[i] and \r\n",
    "    error_val[i] should give you the errors obtained after training on i examples.\r\n",
    "    \r\n",
    "    Notes\r\n",
    "    -----\r\n",
    "    - You should evaluate the training error on the first i training\r\n",
    "      examples (i.e., X[:i, :] and y[:i]).\r\n",
    "    \r\n",
    "      For the cross-validation error, you should instead evaluate on\r\n",
    "      the _entire_ cross validation set (Xval and yval).\r\n",
    "    \r\n",
    "    - If you are using your cost function (linearRegCostFunction) to compute\r\n",
    "      the training and cross validation error, you should call the function with\r\n",
    "      the lambda argument set to 0. Do note that you will still need to use\r\n",
    "      lambda when running the training to obtain the theta parameters.\r\n",
    "    \r\n",
    "    Hint\r\n",
    "    ----\r\n",
    "    You can loop over the examples with the following:\r\n",
    "     \r\n",
    "           for i in range(1, m+1):\r\n",
    "               # Compute train/cross validation errors using training examples \r\n",
    "               # X[:i, :] and y[:i], storing the result in \r\n",
    "               # error_train[i-1] and error_val[i-1]\r\n",
    "               ....  \r\n",
    "    \"\"\"\r\n",
    "    # Number of training examples\r\n",
    "    m = y.size\r\n",
    "\r\n",
    "    # You need to return these values correctly\r\n",
    "    error_train = np.zeros(m)\r\n",
    "    error_val   = np.zeros(m)\r\n",
    "\r\n",
    "    # ====================== YOUR CODE HERE ======================\r\n",
    "    for i in range(1, m+1):\r\n",
    "        theta_temp = utils.trainLinearReg(linearRegCostFunction, X[:i], y[:i], lambda_ = lambda_)\r\n",
    "        error_train[i-1] += linearRegCostFunction(X[:i], y[:i], theta_temp, lambda_=0)[0]\r\n",
    "        error_val[i-1] += linearRegCostFunction(Xval, yval, theta_temp, lambda_=0)[0]\r\n",
    "        \r\n",
    "    # =============================================================\r\n",
    "    return error_train, error_val"
   ],
   "outputs": [],
   "metadata": {}
  },
  {
   "cell_type": "markdown",
   "source": [
    "When you are finished implementing the function `learningCurve`, executing the next cell prints the learning curves and produce a plot similar to the figure below. \n",
    "\n",
    "![](Figures/learning_curve.png)\n",
    "\n",
    "In the learning curve figure, you can observe that both the train error and cross validation error are high when the number of training examples is increased. This reflects a high bias problem in the model - the linear regression model is too simple and is unable to fit our dataset well. In the next section, you will implement polynomial regression to fit a better model for this dataset."
   ],
   "metadata": {}
  },
  {
   "cell_type": "code",
   "execution_count": 19,
   "source": [
    "X_aug = np.concatenate([np.ones((m, 1)), X], axis=1)\r\n",
    "Xval_aug = np.concatenate([np.ones((yval.size, 1)), Xval], axis=1)\r\n",
    "error_train, error_val = learningCurve(X_aug, y, Xval_aug, yval, lambda_=0)\r\n",
    "\r\n",
    "pyplot.plot(np.arange(1, m+1), error_train, np.arange(1, m+1), error_val, lw=2)\r\n",
    "pyplot.title('Learning curve for linear regression')\r\n",
    "pyplot.legend(['Train', 'Cross Validation'])\r\n",
    "pyplot.xlabel('Number of training examples')\r\n",
    "pyplot.ylabel('Error')\r\n",
    "pyplot.axis([0, 13, 0, 150])\r\n",
    "\r\n",
    "print('# Training Examples\\tTrain Error\\tCross Validation Error')\r\n",
    "for i in range(m):\r\n",
    "    print('  \\t%d\\t\\t%f\\t%f' % (i+1, error_train[i], error_val[i]))"
   ],
   "outputs": [
    {
     "output_type": "stream",
     "name": "stdout",
     "text": [
      "# Training Examples\tTrain Error\tCross Validation Error\n",
      "  \t1\t\t0.000000\t205.121096\n",
      "  \t2\t\t0.000000\t110.302641\n",
      "  \t3\t\t3.286595\t45.010231\n",
      "  \t4\t\t2.842678\t48.368911\n",
      "  \t5\t\t13.154049\t35.865165\n",
      "  \t6\t\t19.443963\t33.829961\n",
      "  \t7\t\t20.098522\t31.970986\n",
      "  \t8\t\t18.172859\t30.862446\n",
      "  \t9\t\t22.609405\t31.135998\n",
      "  \t10\t\t23.261462\t28.936207\n",
      "  \t11\t\t24.317250\t29.551432\n",
      "  \t12\t\t22.373906\t29.433818\n"
     ]
    },
    {
     "output_type": "display_data",
     "data": {
      "text/plain": [
       "<Figure size 432x288 with 1 Axes>"
      ],
      "image/png": "[encoded data removed]"
     },
     "metadata": {
      "needs_background": "light"
     }
    }
   ],
   "metadata": {}
  },
  {
   "cell_type": "markdown",
   "source": [
    "*You should now submit your solutions.*"
   ],
   "metadata": {}
  },
  {
   "cell_type": "code",
   "execution_count": 22,
   "source": [
    "grader[3] = learningCurve\r\n",
    "grader.grade()"
   ],
   "outputs": [
    {
     "output_type": "stream",
     "name": "stdout",
     "text": [
      "\n",
      "Submitting Solutions | Programming Exercise regularized-linear-regression-and-bias-variance\n",
      "\n",
      "                                  Part Name |     Score | Feedback\n",
      "                                  --------- |     ----- | --------\n",
      "                           Validation Curve |  25 /  25 | Nice work!\n",
      "Regularized Linear Regression Cost Function |  25 /  25 | Nice work!\n",
      "     Regularized Linear Regression Gradient |  20 /  20 | Nice work!\n",
      "                             Learning Curve |   0 /  10 | Your answer is incorrect.\n",
      "                 Polynomial Feature Mapping |   0 /  20 | Your answer is incorrect.\n",
      "                                  --------------------------------\n",
      "                                            |  70 / 100 |  \n",
      "\n"
     ]
    }
   ],
   "metadata": {}
  },
  {
   "cell_type": "markdown",
   "source": [
    "<a id=\"section4\"></a>\n",
    "\n",
    "## 3 Polynomial regression\n",
    "\n",
    "The problem with our linear model was that it was too simple for the data\n",
    "and resulted in underfitting (high bias). In this part of the exercise, you will address this problem by adding more features. For polynomial regression, our hypothesis has the form:\n",
    "\n",
    "$$\n",
    "\\begin{align}\n",
    "h_\\theta(x)  &= \\theta_0 + \\theta_1 \\times (\\text{waterLevel}) + \\theta_2 \\times (\\text{waterLevel})^2 + \\cdots + \\theta_p \\times (\\text{waterLevel})^p \\\\\n",
    "& = \\theta_0 + \\theta_1 x_1 + \\theta_2 x_2 + \\cdots + \\theta_p x_p\n",
    "\\end{align}\n",
    "$$\n",
    "\n",
    "Notice that by defining $x_1 = (\\text{waterLevel})$, $x_2 = (\\text{waterLevel})^2$ , $\\cdots$, $x_p =\n",
    "(\\text{waterLevel})^p$, we obtain a linear regression model where the features are the various powers of the original value (waterLevel).\n",
    "\n",
    "Now, you will add more features using the higher powers of the existing feature $x$ in the dataset. Your task in this part is to complete the code in the function `polyFeatures` in the next cell. The function should map the original training set $X$ of size $m \\times 1$ into its higher powers. Specifically, when a training set $X$ of size $m \\times 1$ is passed into the function, the function should return a $m \\times p$ matrix `X_poly`, where column 1 holds the original values of X, column 2 holds the values of $X^2$, column 3 holds the values of $X^3$, and so on. Note that you don’t have to account for the zero-eth power in this function.\n",
    "\n",
    "<a id=\"polyFeatures\"></a>"
   ],
   "metadata": {}
  },
  {
   "cell_type": "code",
   "execution_count": 29,
   "source": [
    "X"
   ],
   "outputs": [
    {
     "output_type": "execute_result",
     "data": {
      "text/plain": [
       "array([[-15.93675813],\n",
       "       [-29.15297922],\n",
       "       [ 36.18954863],\n",
       "       [ 37.49218733],\n",
       "       [-48.05882945],\n",
       "       [ -8.94145794],\n",
       "       [ 15.30779289],\n",
       "       [-34.70626581],\n",
       "       [  1.38915437],\n",
       "       [-44.38375985],\n",
       "       [  7.01350208],\n",
       "       [ 22.76274892]])"
      ]
     },
     "metadata": {},
     "execution_count": 29
    }
   ],
   "metadata": {}
  },
  {
   "cell_type": "code",
   "execution_count": 30,
   "source": [
    "X ** 2"
   ],
   "outputs": [
    {
     "output_type": "execute_result",
     "data": {
      "text/plain": [
       "array([[2.53980260e+02],\n",
       "       [8.49896197e+02],\n",
       "       [1.30968343e+03],\n",
       "       [1.40566411e+03],\n",
       "       [2.30965109e+03],\n",
       "       [7.99496701e+01],\n",
       "       [2.34328523e+02],\n",
       "       [1.20452489e+03],\n",
       "       [1.92974986e+00],\n",
       "       [1.96991814e+03],\n",
       "       [4.91892115e+01],\n",
       "       [5.18142738e+02]])"
      ]
     },
     "metadata": {},
     "execution_count": 30
    }
   ],
   "metadata": {}
  },
  {
   "cell_type": "code",
   "execution_count": 23,
   "source": [
    "def polyFeatures(X, p):\r\n",
    "    \"\"\"\r\n",
    "    Maps X (1D vector) into the p-th power.\r\n",
    "    \r\n",
    "    Parameters\r\n",
    "    ----------\r\n",
    "    X : array_like\r\n",
    "        A data vector of size m, where m is the number of examples.\r\n",
    "    \r\n",
    "    p : int\r\n",
    "        The polynomial power to map the features. \r\n",
    "    \r\n",
    "    Returns \r\n",
    "    -------\r\n",
    "    X_poly : array_like\r\n",
    "        A matrix of shape (m x p) where p is the polynomial \r\n",
    "        power and m is the number of examples. That is:\r\n",
    "    \r\n",
    "        X_poly[i, :] = [X[i], X[i]**2, X[i]**3 ...  X[i]**p]\r\n",
    "    \r\n",
    "    Instructions\r\n",
    "    ------------\r\n",
    "    Given a vector X, return a matrix X_poly where the p-th column of\r\n",
    "    X contains the values of X to the p-th power.\r\n",
    "    \"\"\"\r\n",
    "    # You need to return the following variables correctly.\r\n",
    "    X_poly = np.zeros((X.shape[0], p))\r\n",
    "\r\n",
    "    # ====================== YOUR CODE HERE ======================\r\n",
    "    for i in range(p):\r\n",
    "        X_poly[:,i] = X[:,0] ** (i+1)\r\n",
    "\r\n",
    "\r\n",
    "    # ============================================================\r\n",
    "    return X_poly"
   ],
   "outputs": [],
   "metadata": {}
  },
  {
   "cell_type": "markdown",
   "source": [
    "Now you have a function that will map features to a higher dimension. The next cell will apply it to the training set, the test set, and the cross validation set."
   ],
   "metadata": {}
  },
  {
   "cell_type": "code",
   "execution_count": 24,
   "source": [
    "p = 8\r\n",
    "\r\n",
    "# Map X onto Polynomial Features and Normalize\r\n",
    "X_poly = polyFeatures(X, p)\r\n",
    "X_poly, mu, sigma = utils.featureNormalize(X_poly)\r\n",
    "X_poly = np.concatenate([np.ones((m, 1)), X_poly], axis=1)\r\n",
    "\r\n",
    "# Map X_poly_test and normalize (using mu and sigma)\r\n",
    "X_poly_test = polyFeatures(Xtest, p)\r\n",
    "X_poly_test -= mu\r\n",
    "X_poly_test /= sigma\r\n",
    "X_poly_test = np.concatenate([np.ones((ytest.size, 1)), X_poly_test], axis=1)\r\n",
    "\r\n",
    "# Map X_poly_val and normalize (using mu and sigma)\r\n",
    "X_poly_val = polyFeatures(Xval, p)\r\n",
    "X_poly_val -= mu\r\n",
    "X_poly_val /= sigma\r\n",
    "X_poly_val = np.concatenate([np.ones((yval.size, 1)), X_poly_val], axis=1)\r\n",
    "\r\n",
    "print('Normalized Training Example 1:')\r\n",
    "X_poly[0, :]"
   ],
   "outputs": [
    {
     "output_type": "stream",
     "name": "stdout",
     "text": [
      "Normalized Training Example 1:\n"
     ]
    },
    {
     "output_type": "execute_result",
     "data": {
      "text/plain": [
       "array([ 1.        , -0.36214078, -0.75508669,  0.18222588, -0.70618991,\n",
       "        0.30661792, -0.59087767,  0.3445158 , -0.50848117])"
      ]
     },
     "metadata": {},
     "execution_count": 24
    }
   ],
   "metadata": {}
  },
  {
   "cell_type": "markdown",
   "source": [
    "*You should now submit your solutions.*"
   ],
   "metadata": {}
  },
  {
   "cell_type": "code",
   "execution_count": 31,
   "source": [
    "grader[4] = polyFeatures\r\n",
    "grader.grade()"
   ],
   "outputs": [
    {
     "output_type": "stream",
     "name": "stdout",
     "text": [
      "\n",
      "Submitting Solutions | Programming Exercise regularized-linear-regression-and-bias-variance\n",
      "\n",
      "                                  Part Name |     Score | Feedback\n",
      "                                  --------- |     ----- | --------\n",
      "                           Validation Curve |  25 /  25 | Nice work!\n",
      "Regularized Linear Regression Cost Function |  25 /  25 | Nice work!\n",
      "     Regularized Linear Regression Gradient |  20 /  20 | Nice work!\n",
      "                             Learning Curve |  10 /  10 | Nice work!\n",
      "                 Polynomial Feature Mapping |   0 /  20 | Your answer is incorrect.\n",
      "                                  --------------------------------\n",
      "                                            |  80 / 100 |  \n",
      "\n"
     ]
    }
   ],
   "metadata": {}
  },
  {
   "cell_type": "markdown",
   "source": [
    "## 3.1 Learning Polynomial Regression\n",
    "\n",
    "After you have completed the function `polyFeatures`, we will proceed to train polynomial regression using your linear regression cost function.\n",
    "\n",
    "Keep in mind that even though we have polynomial terms in our feature vector, we are still solving a linear regression optimization problem. The polynomial terms have simply turned into features that we can use for linear regression. We are using the same cost function and gradient that you wrote for the earlier part of this exercise.\n",
    "\n",
    "For this part of the exercise, you will be using a polynomial of degree 8. It turns out that if we run the training directly on the projected data, will not work well as the features would be badly scaled (e.g., an example with $x = 40$ will now have a feature $x_8 = 40^8 = 6.5 \\times 10^{12}$). Therefore, you will\n",
    "need to use feature normalization.\n",
    "\n",
    "Before learning the parameters $\\theta$ for the polynomial regression, we first call `featureNormalize` and normalize the features of the training set, storing the mu, sigma parameters separately. We have already implemented this function for you (in `utils.py` module) and it is the same function from the first exercise.\n",
    "\n",
    "After learning the parameters $\\theta$, you should see two plots generated for polynomial regression with $\\lambda = 0$, which should be similar to the ones here:\n",
    "\n",
    "<table>\n",
    "    <tr>\n",
    "        <td><img src=\"Figures/polynomial_regression.png\"></td>\n",
    "        <td><img src=\"Figures/polynomial_learning_curve.png\"></td>\n",
    "    </tr>\n",
    "</table>\n",
    "\n",
    "You should see that the polynomial fit is able to follow the datapoints very well, thus, obtaining a low training error. The figure on the right shows that the training error essentially stays zero for all numbers of training samples. However, the polynomial fit is very complex and even drops off at the extremes. This is an indicator that the polynomial regression model is overfitting the training data and will not generalize well.\n",
    "\n",
    "To better understand the problems with the unregularized ($\\lambda = 0$) model, you can see that the learning curve  shows the same effect where the training error is low, but the cross validation error is high. There is a gap between the training and cross validation errors, indicating a high variance problem."
   ],
   "metadata": {}
  },
  {
   "cell_type": "code",
   "execution_count": 32,
   "source": [
    "lambda_ = 0\r\n",
    "theta = utils.trainLinearReg(linearRegCostFunction, X_poly, y,\r\n",
    "                             lambda_=lambda_, maxiter=55)\r\n",
    "\r\n",
    "# Plot training data and fit\r\n",
    "pyplot.plot(X, y, 'ro', ms=10, mew=1.5, mec='k')\r\n",
    "\r\n",
    "utils.plotFit(polyFeatures, np.min(X), np.max(X), mu, sigma, theta, p)\r\n",
    "\r\n",
    "pyplot.xlabel('Change in water level (x)')\r\n",
    "pyplot.ylabel('Water flowing out of the dam (y)')\r\n",
    "pyplot.title('Polynomial Regression Fit (lambda = %f)' % lambda_)\r\n",
    "pyplot.ylim([-20, 50])\r\n",
    "\r\n",
    "pyplot.figure()\r\n",
    "error_train, error_val = learningCurve(X_poly, y, X_poly_val, yval, lambda_)\r\n",
    "pyplot.plot(np.arange(1, 1+m), error_train, np.arange(1, 1+m), error_val)\r\n",
    "\r\n",
    "pyplot.title('Polynomial Regression Learning Curve (lambda = %f)' % lambda_)\r\n",
    "pyplot.xlabel('Number of training examples')\r\n",
    "pyplot.ylabel('Error')\r\n",
    "pyplot.axis([0, 13, 0, 100])\r\n",
    "pyplot.legend(['Train', 'Cross Validation'])\r\n",
    "\r\n",
    "print('Polynomial Regression (lambda = %f)\\n' % lambda_)\r\n",
    "print('# Training Examples\\tTrain Error\\tCross Validation Error')\r\n",
    "for i in range(m):\r\n",
    "    print('  \\t%d\\t\\t%f\\t%f' % (i+1, error_train[i], error_val[i]))"
   ],
   "outputs": [
    {
     "output_type": "stream",
     "name": "stdout",
     "text": [
      "Polynomial Regression (lambda = 0.000000)\n",
      "\n",
      "# Training Examples\tTrain Error\tCross Validation Error\n",
      "  \t1\t\t0.000000\t160.721900\n",
      "  \t2\t\t0.000000\t160.121511\n",
      "  \t3\t\t0.000000\t59.071636\n",
      "  \t4\t\t0.000000\t77.997937\n",
      "  \t5\t\t0.000000\t6.449284\n",
      "  \t6\t\t0.000000\t10.829179\n",
      "  \t7\t\t0.000000\t27.929910\n",
      "  \t8\t\t0.000009\t20.435851\n",
      "  \t9\t\t0.000338\t32.582274\n",
      "  \t10\t\t0.012118\t77.289787\n",
      "  \t11\t\t0.034996\t30.518113\n",
      "  \t12\t\t0.038349\t24.499528\n"
     ]
    },
    {
     "output_type": "display_data",
     "data": {
      "text/plain": [
       "<Figure size 432x288 with 1 Axes>"
      ],
      "image/png": "[encoded data removed]"
     },
     "metadata": {
      "needs_background": "light"
     }
    },
    {
     "output_type": "display_data",
     "data": {
      "text/plain": [
       "<Figure size 432x288 with 1 Axes>"
      ],
      "image/png": "[encoded data removed]"
     },
     "metadata": {
      "needs_background": "light"
     }
    }
   ],
   "metadata": {}
  },
  {
   "cell_type": "markdown",
   "source": [
    "One way to combat the overfitting (high-variance) problem is to add regularization to the model. In the next section, you will get to  try different $\\lambda$ parameters to see how regularization can lead to a better model.\n",
    "\n",
    "### 3.2 Optional (ungraded) exercise: Adjusting the regularization parameter\n",
    "\n",
    "In this section, you will get to observe how the regularization parameter affects the bias-variance of regularized polynomial regression. You should now modify the the lambda parameter and try $\\lambda = 1, 100$. For each of these values, the script should generate a polynomial fit to the data and also a learning curve.\n",
    "\n",
    "For $\\lambda = 1$, the generated plots should look like the the figure below. You should see a polynomial fit that follows the data trend well (left) and a learning curve (right) showing that both the cross validation and training error converge to a relatively low value. This shows the $\\lambda = 1$ regularized polynomial regression model does not have the high-bias or high-variance problems. In effect, it achieves a good trade-off between bias and variance.\n",
    "\n",
    "<table>\n",
    "    <tr>\n",
    "        <td><img src=\"Figures/polynomial_regression_reg_1.png\"></td>\n",
    "        <td><img src=\"Figures/polynomial_learning_curve_reg_1.png\"></td>\n",
    "    </tr>\n",
    "</table>\n",
    "\n",
    "For $\\lambda = 100$, you should see a polynomial fit (figure below) that does not follow the data well. In this case, there is too much regularization and the model is unable to fit the training data.\n",
    "\n",
    "![](Figures/polynomial_regression_reg_100.png)\n",
    "\n",
    "*You do not need to submit any solutions for this optional (ungraded) exercise.*"
   ],
   "metadata": {}
  },
  {
   "cell_type": "markdown",
   "source": [
    "<a id=\"section5\"></a>\n",
    "### 3.3 Selecting $\\lambda$ using a cross validation set\n",
    "\n",
    "From the previous parts of the exercise, you observed that the value of $\\lambda$ can significantly affect the results of regularized polynomial regression on the training and cross validation set. In particular, a model without regularization ($\\lambda = 0$) fits the training set well, but does not generalize. Conversely, a model with too much regularization ($\\lambda = 100$) does not fit the training set and testing set well. A good choice of $\\lambda$ (e.g., $\\lambda = 1$) can provide a good fit to the data.\n",
    "\n",
    "In this section, you will implement an automated method to select the $\\lambda$ parameter. Concretely, you will use a cross validation set to evaluate how good each $\\lambda$ value is. After selecting the best $\\lambda$ value using the cross validation set, we can then evaluate the model on the test set to estimate\n",
    "how well the model will perform on actual unseen data. \n",
    "\n",
    "Your task is to complete the code in the function `validationCurve`. Specifically, you should should use the `utils.trainLinearReg` function to train the model using different values of $\\lambda$ and compute the training error and cross validation error. You should try $\\lambda$ in the following range: {0, 0.001, 0.003, 0.01, 0.03, 0.1, 0.3, 1, 3, 10}.\n",
    "<a id=\"validationCurve\"></a>"
   ],
   "metadata": {}
  },
  {
   "cell_type": "code",
   "execution_count": 36,
   "source": [
    "def validationCurve(X, y, Xval, yval):\r\n",
    "    \"\"\"\r\n",
    "    Generate the train and validation errors needed to plot a validation\r\n",
    "    curve that we can use to select lambda_.\r\n",
    "    \r\n",
    "    Parameters\r\n",
    "    ----------\r\n",
    "    X : array_like\r\n",
    "        The training dataset. Matrix with shape (m x n) where m is the \r\n",
    "        total number of training examples, and n is the number of features \r\n",
    "        including any polynomial features.\r\n",
    "    \r\n",
    "    y : array_like\r\n",
    "        The functions values at each training datapoint. A vector of\r\n",
    "        shape (m, ).\r\n",
    "    \r\n",
    "    Xval : array_like\r\n",
    "        The validation dataset. Matrix with shape (m_val x n) where m is the \r\n",
    "        total number of validation examples, and n is the number of features \r\n",
    "        including any polynomial features.\r\n",
    "    \r\n",
    "    yval : array_like\r\n",
    "        The functions values at each validation datapoint. A vector of\r\n",
    "        shape (m_val, ).\r\n",
    "    \r\n",
    "    Returns\r\n",
    "    -------\r\n",
    "    lambda_vec : list\r\n",
    "        The values of the regularization parameters which were used in \r\n",
    "        cross validation.\r\n",
    "    \r\n",
    "    error_train : list\r\n",
    "        The training error computed at each value for the regularization\r\n",
    "        parameter.\r\n",
    "    \r\n",
    "    error_val : list\r\n",
    "        The validation error computed at each value for the regularization\r\n",
    "        parameter.\r\n",
    "    \r\n",
    "    Instructions\r\n",
    "    ------------\r\n",
    "    Fill in this function to return training errors in `error_train` and\r\n",
    "    the validation errors in `error_val`. The vector `lambda_vec` contains\r\n",
    "    the different lambda parameters to use for each calculation of the\r\n",
    "    errors, i.e, `error_train[i]`, and `error_val[i]` should give you the\r\n",
    "    errors obtained after training with `lambda_ = lambda_vec[i]`.\r\n",
    "\r\n",
    "    Note\r\n",
    "    ----\r\n",
    "    You can loop over lambda_vec with the following:\r\n",
    "    \r\n",
    "          for i in range(len(lambda_vec))\r\n",
    "              lambda = lambda_vec[i]\r\n",
    "              # Compute train / val errors when training linear \r\n",
    "              # regression with regularization parameter lambda_\r\n",
    "              # You should store the result in error_train[i]\r\n",
    "              # and error_val[i]\r\n",
    "              ....\r\n",
    "    \"\"\"\r\n",
    "    # Selected values of lambda (you should not change this)\r\n",
    "    lambda_vec = [0, 0.001, 0.003, 0.01, 0.03, 0.1, 0.3, 1, 3, 10]\r\n",
    "\r\n",
    "    # You need to return these variables correctly.\r\n",
    "    error_train = np.zeros(len(lambda_vec))\r\n",
    "    error_val = np.zeros(len(lambda_vec))\r\n",
    "\r\n",
    "    # ====================== YOUR CODE HERE ======================\r\n",
    "    for i in range(len(lambda_vec)):\r\n",
    "        lambda_i = lambda_vec[i]\r\n",
    "        theta_i = utils.trainLinearReg(linearRegCostFunction, X, y, lambda_ = lambda_i)\r\n",
    "        error_train[i] += linearRegCostFunction(X, y, theta_i, lambda_ = 0)[0]\r\n",
    "        error_val[i] += linearRegCostFunction(Xval, yval, theta_i, lambda_ = 0)[0]\r\n",
    "\r\n",
    "    # ============================================================\r\n",
    "    return lambda_vec, error_train, error_val"
   ],
   "outputs": [],
   "metadata": {}
  },
  {
   "cell_type": "markdown",
   "source": [
    "After you have completed the code, the next cell will run your function and plot a cross validation curve of error v.s. $\\lambda$ that allows you select which $\\lambda$ parameter to use. You should see a plot similar to the figure below. \n",
    "\n",
    "![](Figures/cross_validation.png)\n",
    "\n",
    "In this figure, we can see that the best value of $\\lambda$ is around 3. Due to randomness\n",
    "in the training and validation splits of the dataset, the cross validation error can sometimes be lower than the training error."
   ],
   "metadata": {}
  },
  {
   "cell_type": "code",
   "execution_count": 37,
   "source": [
    "lambda_vec, error_train, error_val = validationCurve(X_poly, y, X_poly_val, yval)\r\n",
    "\r\n",
    "pyplot.plot(lambda_vec, error_train, '-o', lambda_vec, error_val, '-o', lw=2)\r\n",
    "pyplot.legend(['Train', 'Cross Validation'])\r\n",
    "pyplot.xlabel('lambda')\r\n",
    "pyplot.ylabel('Error')\r\n",
    "\r\n",
    "print('lambda\\t\\tTrain Error\\tValidation Error')\r\n",
    "for i in range(len(lambda_vec)):\r\n",
    "    print(' %f\\t%f\\t%f' % (lambda_vec[i], error_train[i], error_val[i]))"
   ],
   "outputs": [
    {
     "output_type": "stream",
     "name": "stdout",
     "text": [
      "lambda\t\tTrain Error\tValidation Error\n",
      " 0.000000\t0.038349\t24.499528\n",
      " 0.001000\t0.112470\t9.830868\n",
      " 0.003000\t0.170867\t16.312011\n",
      " 0.010000\t0.221511\t16.943724\n",
      " 0.030000\t0.281826\t12.829354\n",
      " 0.100000\t0.459317\t7.587079\n",
      " 0.300000\t0.921756\t4.636810\n",
      " 1.000000\t2.076200\t4.260602\n",
      " 3.000000\t4.901380\t3.822916\n",
      " 10.000000\t16.092273\t9.945554\n"
     ]
    },
    {
     "output_type": "display_data",
     "data": {
      "text/plain": [
       "<Figure size 432x288 with 1 Axes>"
      ],
      "image/png": "[encoded data removed]"
     },
     "metadata": {
      "needs_background": "light"
     }
    }
   ],
   "metadata": {}
  },
  {
   "cell_type": "markdown",
   "source": [
    "*You should now submit your solutions.*"
   ],
   "metadata": {}
  },
  {
   "cell_type": "code",
   "execution_count": 38,
   "source": [
    "grader[5] = validationCurve\r\n",
    "grader.grade()"
   ],
   "outputs": [
    {
     "output_type": "stream",
     "name": "stdout",
     "text": [
      "\n",
      "Submitting Solutions | Programming Exercise regularized-linear-regression-and-bias-variance\n",
      "\n",
      "                                  Part Name |     Score | Feedback\n",
      "                                  --------- |     ----- | --------\n",
      "                           Validation Curve |  25 /  25 | Nice work!\n",
      "Regularized Linear Regression Cost Function |  25 /  25 | Nice work!\n",
      "     Regularized Linear Regression Gradient |  20 /  20 | Nice work!\n",
      "                             Learning Curve |  10 /  10 | Nice work!\n",
      "                 Polynomial Feature Mapping |  20 /  20 | Nice work!\n",
      "                                  --------------------------------\n",
      "                                            | 100 / 100 |  \n",
      "\n"
     ]
    }
   ],
   "metadata": {}
  },
  {
   "cell_type": "markdown",
   "source": [
    "### 3.4  Optional (ungraded) exercise: Computing test set error\n",
    "\n",
    "In the previous part of the exercise, you implemented code to compute the cross validation error for various values of the regularization parameter $\\lambda$. However, to get a better indication of the model’s performance in the real world, it is important to evaluate the “final” model on a test set that was not used in any part of training (that is, it was neither used to select the $\\lambda$ parameters, nor to learn the model parameters $\\theta$). For this optional (ungraded) exercise, you should compute the test error using the best value of $\\lambda$ you found. In our cross validation, we obtained a test error of 3.8599 for $\\lambda = 3$.\n",
    "\n",
    "*You do not need to submit any solutions for this optional (ungraded) exercise.*"
   ],
   "metadata": {}
  },
  {
   "cell_type": "code",
   "execution_count": null,
   "source": [],
   "outputs": [],
   "metadata": {}
  },
  {
   "cell_type": "markdown",
   "source": [
    "### 3.5 Optional (ungraded) exercise: Plotting learning curves with randomly selected examples\n",
    "\n",
    "In practice, especially for small training sets, when you plot learning curves to debug your algorithms, it is often helpful to average across multiple sets of randomly selected examples to determine the training error and cross validation error.\n",
    "\n",
    "Concretely, to determine the training error and cross validation error for $i$ examples, you should first randomly select $i$ examples from the training set and $i$ examples from the cross validation set. You will then learn the parameters $\\theta$ using the randomly chosen training set and evaluate the parameters $\\theta$ on the randomly chosen training set and cross validation set. The above steps should then be repeated multiple times (say 50) and the averaged error should be used to determine the training error and cross validation error for $i$ examples.\n",
    "\n",
    "For this optional (ungraded) exercise, you should implement the above strategy for computing the learning curves. For reference, the figure below  shows the learning curve we obtained for polynomial regression with $\\lambda = 0.01$. Your figure may differ slightly due to the random selection of examples.\n",
    "\n",
    "![](Figures/learning_curve_random.png)\n",
    "\n",
    "*You do not need to submit any solutions for this optional (ungraded) exercise.*"
   ],
   "metadata": {}
  },
  {
   "cell_type": "code",
   "execution_count": null,
   "source": [],
   "outputs": [],
   "metadata": {}
  }
 ],
 "metadata": {
  "kernelspec": {
   "display_name": "Python 3",
   "language": "python",
   "name": "python3"
  },
  "language_info": {
   "codemirror_mode": {
    "name": "ipython",
    "version": 3
   },
   "file_extension": ".py",
   "mimetype": "text/x-python",
   "name": "python",
   "nbconvert_exporter": "python",
   "pygments_lexer": "ipython3",
   "version": "3.6.4"
  }
 },
 "nbformat": 4,
 "nbformat_minor": 2
}